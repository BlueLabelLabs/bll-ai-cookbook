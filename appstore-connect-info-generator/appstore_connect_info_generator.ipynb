{
    "cells": [
        {
            "cell_type": "markdown",
            "metadata": {},
            "source": [
                "# Imagine an app\n",
                "\n",
                "Use ChatGPT to describe in detail a new mobile app\n",
                "\n",
                "The user provides a category, purpose statement, and (optionally) a working name, and the model generates a longer description of the app.\n",
                "\n",
                "ChatGPT will generate a list of features, a list of benefits, keywords, and a list of potential names for the app.\n"
            ]
        },
        {
            "cell_type": "markdown",
            "metadata": {},
            "source": []
        },
        {
            "cell_type": "markdown",
            "metadata": {},
            "source": [
                "## 1. Import the openai and requests libraries"
            ]
        },
        {
            "cell_type": "code",
            "execution_count": 6,
            "metadata": {},
            "outputs": [
                {
                    "name": "stdout",
                    "output_type": "stream",
                    "text": [
                        "Defaulting to user installation because normal site-packages is not writeable\n",
                        "Requirement already satisfied: openai in /Users/chris/Library/Python/3.11/lib/python/site-packages (0.28.0)\n",
                        "Requirement already satisfied: requests>=2.20 in /Users/chris/Library/Python/3.11/lib/python/site-packages (from openai) (2.31.0)\n",
                        "Requirement already satisfied: tqdm in /Users/chris/Library/Python/3.11/lib/python/site-packages (from openai) (4.66.1)\n",
                        "Requirement already satisfied: aiohttp in /Users/chris/Library/Python/3.11/lib/python/site-packages (from openai) (3.8.5)\n",
                        "Requirement already satisfied: charset-normalizer<4,>=2 in /Users/chris/Library/Python/3.11/lib/python/site-packages (from requests>=2.20->openai) (3.2.0)\n",
                        "Requirement already satisfied: idna<4,>=2.5 in /Users/chris/Library/Python/3.11/lib/python/site-packages (from requests>=2.20->openai) (3.4)\n",
                        "Requirement already satisfied: urllib3<3,>=1.21.1 in /Users/chris/Library/Python/3.11/lib/python/site-packages (from requests>=2.20->openai) (2.0.4)\n",
                        "Requirement already satisfied: certifi>=2017.4.17 in /Users/chris/Library/Python/3.11/lib/python/site-packages (from requests>=2.20->openai) (2023.7.22)\n",
                        "Requirement already satisfied: attrs>=17.3.0 in /Users/chris/Library/Python/3.11/lib/python/site-packages (from aiohttp->openai) (23.1.0)\n",
                        "Requirement already satisfied: multidict<7.0,>=4.5 in /Users/chris/Library/Python/3.11/lib/python/site-packages (from aiohttp->openai) (6.0.4)\n",
                        "Requirement already satisfied: async-timeout<5.0,>=4.0.0a3 in /Users/chris/Library/Python/3.11/lib/python/site-packages (from aiohttp->openai) (4.0.3)\n",
                        "Requirement already satisfied: yarl<2.0,>=1.0 in /Users/chris/Library/Python/3.11/lib/python/site-packages (from aiohttp->openai) (1.9.2)\n",
                        "Requirement already satisfied: frozenlist>=1.1.1 in /Users/chris/Library/Python/3.11/lib/python/site-packages (from aiohttp->openai) (1.4.0)\n",
                        "Requirement already satisfied: aiosignal>=1.1.2 in /Users/chris/Library/Python/3.11/lib/python/site-packages (from aiohttp->openai) (1.3.1)\n",
                        "Note: you may need to restart the kernel to use updated packages.\n",
                        "Defaulting to user installation because normal site-packages is not writeable\n",
                        "Requirement already satisfied: ipywidgets in /Users/chris/Library/Python/3.11/lib/python/site-packages (8.1.0)\n",
                        "Requirement already satisfied: comm>=0.1.3 in /Users/chris/Library/Python/3.11/lib/python/site-packages (from ipywidgets) (0.1.4)\n",
                        "Requirement already satisfied: ipython>=6.1.0 in /Users/chris/Library/Python/3.11/lib/python/site-packages (from ipywidgets) (8.14.0)\n",
                        "Requirement already satisfied: traitlets>=4.3.1 in /Users/chris/Library/Python/3.11/lib/python/site-packages (from ipywidgets) (5.9.0)\n",
                        "Requirement already satisfied: widgetsnbextension~=4.0.7 in /Users/chris/Library/Python/3.11/lib/python/site-packages (from ipywidgets) (4.0.8)\n",
                        "Requirement already satisfied: jupyterlab-widgets~=3.0.7 in /Users/chris/Library/Python/3.11/lib/python/site-packages (from ipywidgets) (3.0.8)\n",
                        "Requirement already satisfied: backcall in /Users/chris/Library/Python/3.11/lib/python/site-packages (from ipython>=6.1.0->ipywidgets) (0.2.0)\n",
                        "Requirement already satisfied: decorator in /Users/chris/Library/Python/3.11/lib/python/site-packages (from ipython>=6.1.0->ipywidgets) (5.1.1)\n",
                        "Requirement already satisfied: jedi>=0.16 in /Users/chris/Library/Python/3.11/lib/python/site-packages (from ipython>=6.1.0->ipywidgets) (0.19.0)\n",
                        "Requirement already satisfied: matplotlib-inline in /Users/chris/Library/Python/3.11/lib/python/site-packages (from ipython>=6.1.0->ipywidgets) (0.1.6)\n",
                        "Requirement already satisfied: pickleshare in /Users/chris/Library/Python/3.11/lib/python/site-packages (from ipython>=6.1.0->ipywidgets) (0.7.5)\n",
                        "Requirement already satisfied: prompt-toolkit!=3.0.37,<3.1.0,>=3.0.30 in /Users/chris/Library/Python/3.11/lib/python/site-packages (from ipython>=6.1.0->ipywidgets) (3.0.39)\n",
                        "Requirement already satisfied: pygments>=2.4.0 in /Users/chris/Library/Python/3.11/lib/python/site-packages (from ipython>=6.1.0->ipywidgets) (2.16.1)\n",
                        "Requirement already satisfied: stack-data in /Users/chris/Library/Python/3.11/lib/python/site-packages (from ipython>=6.1.0->ipywidgets) (0.6.2)\n",
                        "Requirement already satisfied: pexpect>4.3 in /Users/chris/Library/Python/3.11/lib/python/site-packages (from ipython>=6.1.0->ipywidgets) (4.8.0)\n",
                        "Requirement already satisfied: appnope in /Users/chris/Library/Python/3.11/lib/python/site-packages (from ipython>=6.1.0->ipywidgets) (0.1.3)\n",
                        "Requirement already satisfied: parso<0.9.0,>=0.8.3 in /Users/chris/Library/Python/3.11/lib/python/site-packages (from jedi>=0.16->ipython>=6.1.0->ipywidgets) (0.8.3)\n",
                        "Requirement already satisfied: ptyprocess>=0.5 in /Users/chris/Library/Python/3.11/lib/python/site-packages (from pexpect>4.3->ipython>=6.1.0->ipywidgets) (0.7.0)\n",
                        "Requirement already satisfied: wcwidth in /Users/chris/Library/Python/3.11/lib/python/site-packages (from prompt-toolkit!=3.0.37,<3.1.0,>=3.0.30->ipython>=6.1.0->ipywidgets) (0.2.6)\n",
                        "Requirement already satisfied: executing>=1.2.0 in /Users/chris/Library/Python/3.11/lib/python/site-packages (from stack-data->ipython>=6.1.0->ipywidgets) (1.2.0)\n",
                        "Requirement already satisfied: asttokens>=2.1.0 in /Users/chris/Library/Python/3.11/lib/python/site-packages (from stack-data->ipython>=6.1.0->ipywidgets) (2.2.1)\n",
                        "Requirement already satisfied: pure-eval in /Users/chris/Library/Python/3.11/lib/python/site-packages (from stack-data->ipython>=6.1.0->ipywidgets) (0.2.2)\n",
                        "Requirement already satisfied: six in /Users/chris/Library/Python/3.11/lib/python/site-packages (from asttokens>=2.1.0->stack-data->ipython>=6.1.0->ipywidgets) (1.16.0)\n",
                        "Note: you may need to restart the kernel to use updated packages.\n"
                    ]
                }
            ],
            "source": [
                "# if needed, install and/or upgrade to the latest version of the OpenAI Python library\n",
                "%pip install --upgrade openai\n",
                "%pip install --upgrade ipywidgets"
            ]
        },
        {
            "cell_type": "code",
            "execution_count": 7,
            "metadata": {},
            "outputs": [],
            "source": [
                "# import the OpenAI Python library for calling the OpenAI API\n",
                "import openai\n",
                "import ipywidgets as widgets \n",
                "from IPython.display import display"
            ]
        },
        {
            "cell_type": "markdown",
            "metadata": {},
            "source": [
                "## 2. Set your API key"
            ]
        },
        {
            "cell_type": "code",
            "execution_count": 8,
            "metadata": {
                "cocalc": {
                    "outputs": {
                        "0": {
                            "name": "input",
                            "opts": {
                                "password": false,
                                "prompt": "Enter your OpenAI API key: "
                            },
                            "output_type": "stream"
                        }
                    }
                }
            },
            "outputs": [],
            "source": [
                "api_key = input(\"Enter your OpenAI API key: \").strip()\n",
                "openai.api_key = api_key"
            ]
        },
        {
            "cell_type": "markdown",
            "metadata": {},
            "source": [
                "## 3. Get the available models"
            ]
        },
        {
            "cell_type": "code",
            "execution_count": 9,
            "metadata": {},
            "outputs": [],
            "source": [
                "# Fetch the available models\n",
                "models_data = openai.Model.list()\n",
                "model_names = [model.id for model in models_data.data if model.id.startswith('gpt-')]"
            ]
        },
        {
            "cell_type": "markdown",
            "metadata": {},
            "source": [
                "## 4. Select the model and run the ChatCompletion request"
            ]
        },
        {
            "cell_type": "code",
            "execution_count": 10,
            "metadata": {},
            "outputs": [
                {
                    "data": {
                        "application/vnd.jupyter.widget-view+json": {
                            "model_id": "040772f6a32945eaa1f209640bc90def",
                            "version_major": 2,
                            "version_minor": 0
                        },
                        "text/plain": [
                            "VBox(children=(Dropdown(description='Select Model:', options=('gpt-4', 'gpt-3.5-turbo-16k-0613', 'gpt-3.5-turb…"
                        ]
                    },
                    "execution_count": 10,
                    "metadata": {},
                    "output_type": "execute_result"
                },
                {
                    "name": "stdout",
                    "output_type": "stream",
                    "text": [
                        "Perfect! Based on the information you've provided, we can create this JSON object:\n",
                        "\n",
                        "```json\n",
                        "{\n",
                        "  \"choices\": [\n",
                        "    {\n",
                        "      \"name\": \"CalTracker\",\n",
                        "      \"description\": \"CalTracker is your new best friend in achieving your health and fitness goals! It's not just another fitness app - it's your ultimate meal prep and calorie tracker buddy. Imagine having your own personal assistant that helps you track calories and prepare meals, and that's exactly what CalTracker does. We aim to make your health journey fun, manageable, and most importantly, successful.\\n\\nOur app comes packed with amazing features. A meal prep calendar to help you plan your meals ahead and stay on track with your diet. A calorie tracker that assists you in keeping a record of your daily calorie intake. And a pedometer to record your steps and encourage you to stay active. Each function has been carefully designed with you in mind, to help you stay organized and make your health journey easier.\\n\\nThe benefits of using CalTracker are immense. Not only will you have a clearer understanding of your calorie intake and output, but you'll also be able to effectively plan your meals, ensuring you're nourishing your body with the right foods. With our pedometer feature, you'll be encouraged to move more and lead a healthier lifestyle. So why wait? Get started with CalTracker today!\"\n",
                        "    },\n",
                        "    {\n",
                        "      \"name\": \"Fitness Buddy\",\n",
                        "      \"description\": \"Fitness Buddy is an all-in-one solution for all your health and fitness challenges. With its innovative features, it aims to bring a fresh perspective on calorie tracking and meal prep. It's like having a personal health coach in your pocket, helping you take control of your health journey.\\n\\nThe app is loaded with groundbreaking features to assist you. A meal prep calendar to streamline your dietary plan, a calorie tracker to keep a check on your calorie intake, and a pedometer to count your steps and encourage physical activity. Each feature is thoughtfully designed to cater to your unique health and fitness needs.\\n\\nThe benefits of using Fitness Buddy are countless. You will gain a clear vision of your daily calorie consumption and output, enabling you to make informed dietary decisions. With the meal prep feature, you will be able to plan your meals effectively, ensuring balanced nutrition. Our pedometer feature will motivate you to focus on your physical health by moving more and leading an active lifestyle. Start your health journey with Fitness Buddy today!\"\n",
                        "    }\n",
                        "  ],\n",
                        "  \"category\": \"Health and Fitness\",\n",
                        "  \"keywords\": [\"calorie tracking\", \"meal prep\", \"health\", \"fitness\", \"diet\", \"nutrition\", \"pedometer\", \"activity tracker\", \"meal planning\", \"health and fitness app\"]\n",
                        "}\n",
                        "```\n",
                        "\n",
                        "This JSON object includes two potential app names and descriptions, along with the category and some keywords that will help users find your app on the App Store.\n"
                    ]
                }
            ],
            "source": [
                "# Widgets for model selection and user inputs\n",
                "dropdown = widgets.Dropdown(\n",
                "    options=model_names,\n",
                "    description='Select Model:',\n",
                "    disabled=False\n",
                ")\n",
                "\n",
                "category_input = widgets.Text(value='', description='Category:', placeholder='e.g. Health & Fitness')\n",
                "purpose_input = widgets.Textarea(value='', description='Purpose:', placeholder='e.g. To help users track their daily calorie intake.')\n",
                "features_input = widgets.Textarea(value='', description='Features:', placeholder='e.g. Calorie tracking, Workout plans')\n",
                "name_input = widgets.Text(value='', description='Working Name (Optional):', placeholder='e.g. CalTrack')\n",
                "\n",
                "run_button = widgets.Button(description=\"Generate App Description\")\n",
                "\n",
                "output = widgets.Output()\n",
                "\n",
                "def make_chat_api_call(category, purpose_statement, features, working_name):\n",
                "    # Start the conversation by giving the model context\n",
                "    conversation = [\n",
                "        {\"role\": \"system\", \"content\": \"You are an assistant that will help me submit my new app idea to the App Store. I need specific information about my app to submit it. Here are some notes to keep track of\"},\n",
                "        {\"role\": \"system\", \"content\": f\"If a working name is provided, the app should be called {working_name}, if not use the following directions to create a new name. The title should be quirky and fun. The description should be a 3 paragraph summary of the purpose_statement and features, written in a fun, exciting, and descriptive way.\"},\n",
                "        {\"role\": \"system\", \"content\": \"Output should be in JSON. It should be a single object with the following keys: choices: [{ name, description }] (2 choices), category, and keywords[] (10). The name should be a string, the description should be a string, the category should be a string, and the keywords should be an array of strings.\"},\n",
                "        {\"role\": \"system\", \"content\": \"Output should be in JSON. It should be a single object with the following keys: choices: [{ name, description }] (2 choices), category, and keywords[] (10). The name should be a string, the description should be a string, the category should be a string, and the keywords should be an array of strings.\"},\n",
                "        {\"role\": \"system\", \"content\": \"The description should be several paragraphs containing an overview, features, and benefits.\"},\n",
                "        {\"role\": \"user\", \"content\": f\"I want to create a mobile app that falls under the category of {category}. The main purpose of this app is: {purpose_statement}.\"},\n",
                "        {\"role\": \"user\", \"content\": f\"The features of the app include: {features}.\"}\n",
                "    ]\n",
                "    \n",
                "    # Make the chat API call\n",
                "    selected_model = dropdown.value\n",
                "    response = openai.ChatCompletion.create(\n",
                "        model=selected_model,\n",
                "        messages=conversation,\n",
                "        temperature=0.7,  # Slight randomness for more creative responses\n",
                "    )\n",
                "    \n",
                "    print(response.choices[0].message['content'])\n",
                "\n",
                "def on_run_button_click(b):    \n",
                "    make_chat_api_call(category=category_input.value, purpose_statement=purpose_input.value, features=features_input.value, working_name=name_input.value)\n",
                "\n",
                "run_button.on_click(on_run_button_click)\n",
                "\n",
                "# Display the widgets\n",
                "widgets.VBox([dropdown, category_input, purpose_input, features_input, name_input, run_button, output])\n"
            ]
        },
        {
            "cell_type": "code",
            "execution_count": null,
            "metadata": {},
            "outputs": [],
            "source": []
        }
    ],
    "metadata": {
        "kernelspec": {
            "display_name": "Python 3",
            "language": "python",
            "name": "python3"
        },
        "language_info": {
            "codemirror_mode": {
                "name": "ipython",
                "version": 3
            },
            "file_extension": ".py",
            "mimetype": "text/x-python",
            "name": "python",
            "nbconvert_exporter": "python",
            "pygments_lexer": "ipython3",
            "version": "3.11.3"
        }
    },
    "nbformat": 4,
    "nbformat_minor": 4
}
