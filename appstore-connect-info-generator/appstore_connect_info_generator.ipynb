{
  "cells": [
    {
      "cell_type": "markdown",
      "metadata": {
        "collapsed": false
      },
      "source": [
        "# Imagine an app\n",
        "\n",
        "Use ChatGPT to describe in detail a new mobile app\n",
        "\n",
        "The user provides a category, purpose statement, and (optionally) a working name, and the model generates a longer description of the app.\n",
        "\n",
        "ChatGPT will generate a list of features, a list of benefits, keywords, and a list of potential names for the app.\n"
      ]
    },
    {
      "cell_type": "markdown",
      "metadata": {},
      "source": [
        "## 1. Import the openai and requests libraries"
      ]
    },
    {
      "cell_type": "code",
      "execution_count": null,
      "metadata": {},
      "outputs": [],
      "source": [
        "# if needed, install and/or upgrade to the latest version of the OpenAI Python library\n",
        "%pip install --upgrade openai\n",
        "%pip install --upgrade ipywidgets"
      ]
    },
    {
      "cell_type": "code",
      "execution_count": 2,
      "metadata": {},
      "outputs": [],
      "source": [
        "# import the OpenAI Python library for calling the OpenAI API\n",
        "import openai\n",
        "import requests\n",
        "import ipywidgets as widgets \n",
        "from IPython.display import display"
      ]
    },
    {
      "cell_type": "markdown",
      "metadata": {
        "collapsed": false
      },
      "source": [
        "## 2. Set your API key"
      ]
    },
    {
      "cell_type": "code",
      "execution_count": 3,
      "metadata": {
        "cocalc": {
          "outputs": {
            "0": {
              "name": "input",
              "opts": {
                "password": false,
                "prompt": "Enter your OpenAI API key: "
              },
              "output_type": "stream"
            }
          }
        },
        "collapsed": false
      },
      "outputs": [],
      "source": [
        "api_key = input(\"Enter your OpenAI API key: \").strip()\n",
        "openai.api_key = api_key"
      ]
    },
    {
      "cell_type": "markdown",
      "metadata": {},
      "source": [
        "## 3. Get the available models"
      ]
    },
    {
      "cell_type": "code",
      "execution_count": 4,
      "metadata": {},
      "outputs": [],
      "source": [
        "API_ENDPOINT = \"https://api.openai.com/v1/models\"\n",
        "\n",
        "headers = {\n",
        "    \"Authorization\": f\"Bearer {openai.api_key}\",\n",
        "}\n",
        "\n",
        "response = requests.get(API_ENDPOINT, headers=headers)\n",
        "models_data = response.json()\n",
        "\n",
        "available_models_ids = [model['id'] for model in models_data['data'] if model['id'].startswith('gpt-')] if 'data' in models_data else []"
      ]
    },
    {
      "cell_type": "markdown",
      "metadata": {},
      "source": [
        "## 4. Which model do you want to use?"
      ]
    },
    {
      "cell_type": "code",
      "execution_count": null,
      "metadata": {},
      "outputs": [],
      "source": [
        "# Dropdown for model selection\n",
        "dropdown = widgets.Dropdown(\n",
        "    options=available_models_ids,\n",
        "    description='Select Model:',\n",
        "    disabled=False\n",
        ")\n",
        "\n",
        "# Button for model selection\n",
        "button = widgets.Button(description=\"Select Model\")\n",
        "\n",
        "# Output widget to capture button events and display any output\n",
        "output = widgets.Output()\n",
        "\n",
        "# Global variable to store selected model\n",
        "selected_model = None\n",
        "\n",
        "# Callback function for button click\n",
        "def on_button_click(b):\n",
        "    global selected_model\n",
        "    with output:\n",
        "        selected_model = dropdown.value\n",
        "        print(f\"Selected Model: {selected_model}\")\n",
        "\n",
        "button.on_click(on_button_click)\n",
        "\n",
        "# Display the dropdown and button\n",
        "widgets.VBox([dropdown, button, output])"
      ]
    },
    {
      "cell_type": "markdown",
      "metadata": {},
      "source": [
        "## 5. The ChatCompletion request"
      ]
    },
    {
      "cell_type": "code",
      "execution_count": null,
      "metadata": {},
      "outputs": [],
      "source": [
        "# Use the selected_model to make the chat API call\n",
        "response = openai.ChatCompletion.create(\n",
        "    model=selected_model,\n",
        "    messages=[\n",
        "        {\"role\": \"system\", \"content\": \"You are a helpful assistant.\"},\n",
        "        {\"role\": \"user\", \"content\": \"Knock knock.\"},\n",
        "        {\"role\": \"assistant\", \"content\": \"Who's there?\"},\n",
        "        {\"role\": \"user\", \"content\": \"Orange.\"},\n",
        "    ],\n",
        "    temperature=0,\n",
        ")\n",
        "\n",
        "response"
      ]
    }
  ],
  "metadata": {
    "kernelspec": {
      "argv": [
        "/usr/bin/python3",
        "-m",
        "ipykernel",
        "--HistoryManager.enabled=False",
        "--matplotlib=inline",
        "-c",
        "%config InlineBackend.figure_formats = set(['retina'])\nimport matplotlib; matplotlib.rcParams['figure.figsize'] = (12, 7)",
        "-f",
        "{connection_file}"
      ],
      "display_name": "Python 3 (system-wide)",
      "env": {},
      "language": "python",
      "metadata": {
        "cocalc": {
          "description": "Python 3 programming language",
          "priority": 100,
          "url": "https://www.python.org/"
        }
      },
      "name": "python3",
      "resource_dir": "/ext/jupyter/kernels/python3"
    },
    "language_info": {
      "codemirror_mode": {
        "name": "ipython",
        "version": 3
      },
      "file_extension": ".py",
      "mimetype": "text/x-python",
      "name": "python",
      "nbconvert_exporter": "python",
      "pygments_lexer": "ipython3",
      "version": "3.11.4"
    },
    "orig_nbformat": 4,
    "vscode": {
      "interpreter": {
        "hash": "365536dcbde60510dc9073d6b991cd35db2d9bac356a11f5b64279a5e6708b97"
      }
    }
  },
  "nbformat": 4,
  "nbformat_minor": 4
}
