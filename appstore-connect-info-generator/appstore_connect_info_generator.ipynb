{
    "cells": [
        {
            "cell_type": "markdown",
            "metadata": {},
            "source": [
                "# Imagine an app\n",
                "\n",
                "Use ChatGPT to describe in detail a new mobile app\n",
                "\n",
                "The user provides a category, purpose statement, and (optionally) a working name, and the model generates a longer description of the app.\n",
                "\n",
                "ChatGPT will generate a list of features, a list of benefits, keywords, and a list of potential names for the app.\n"
            ]
        },
        {
            "cell_type": "markdown",
            "metadata": {},
            "source": []
        },
        {
            "cell_type": "markdown",
            "metadata": {},
            "source": [
                "## 1. Import the openai and requests libraries"
            ]
        },
        {
            "cell_type": "code",
            "execution_count": null,
            "metadata": {},
            "outputs": [],
            "source": [
                "# if needed, install and/or upgrade to the latest version of the OpenAI Python library\n",
                "%pip install --upgrade openai\n",
                "%pip install --upgrade ipywidgets"
            ]
        },
        {
            "cell_type": "code",
            "execution_count": null,
            "metadata": {},
            "outputs": [],
            "source": [
                "# import the OpenAI Python library for calling the OpenAI API\n",
                "import openai\n",
                "import ipywidgets as widgets \n",
                "from IPython.display import display"
            ]
        },
        {
            "cell_type": "markdown",
            "metadata": {},
            "source": [
                "## 2. Set your API key"
            ]
        },
        {
            "cell_type": "code",
            "execution_count": null,
            "metadata": {
                "cocalc": {
                    "outputs": {
                        "0": {
                            "name": "input",
                            "opts": {
                                "password": false,
                                "prompt": "Enter your OpenAI API key: "
                            },
                            "output_type": "stream"
                        }
                    }
                }
            },
            "outputs": [],
            "source": [
                "api_key = input(\"Enter your OpenAI API key: \").strip()\n",
                "openai.api_key = api_key"
            ]
        },
        {
            "cell_type": "markdown",
            "metadata": {},
            "source": [
                "## 3. Get the available models"
            ]
        },
        {
            "cell_type": "code",
            "execution_count": null,
            "metadata": {},
            "outputs": [],
            "source": [
                "# Fetch the available models\n",
                "models_data = openai.Model.list()\n",
                "model_names = [model.id for model in models_data.data if model.id.startswith('gpt-')]"
            ]
        },
        {
            "cell_type": "markdown",
            "metadata": {},
            "source": [
                "## 4. Select the model and run the ChatCompletion request"
            ]
        },
        {
            "cell_type": "code",
            "execution_count": null,
            "metadata": {},
            "outputs": [],
            "source": [
                "# Widgets for model selection and user inputs\n",
                "dropdown = widgets.Dropdown(\n",
                "    options=model_names,\n",
                "    description='Select Model:',\n",
                "    disabled=False\n",
                ")\n",
                "\n",
                "category_input = widgets.Text(value='', description='Category:', placeholder='e.g. Health & Fitness')\n",
                "purpose_input = widgets.Textarea(value='', description='Purpose:', placeholder='e.g. To help users track their daily calorie intake.')\n",
                "features_input = widgets.Textarea(value='', description='Features:', placeholder='e.g. Calorie tracking, Workout plans')\n",
                "name_input = widgets.Text(value='', description='Working Name (Optional):', placeholder='e.g. CalTrack')\n",
                "\n",
                "run_button = widgets.Button(description=\"Generate App Description\")\n",
                "\n",
                "output = widgets.Output()\n",
                "\n",
                "def make_chat_api_call(category, purpose_statement, features, working_name=None):\n",
                "    # Start the conversation by giving the model context\n",
                "    conversation = [\n",
                "        {\"role\": \"system\", \"content\": \"You are an assistant that will help me submit my new app idea to the App Store. I need specific information about my app to submit it. Here are some notes to keep track of\"},\n",
                "        {\"role\": \"system\", \"content\": \"The title should be quirky and fun. The description should be a 3 paragraph summary of the purpose_statement and features, written in a fun, exciting, and descriptive way.\"},\n",
                "        {\"role\": \"system\", \"content\": \"Output should be in JSON. It should be a single object with the following keys: choices: [{ name, description }] (2 choices), category, and keywords[] (10). The name should be a string, the description should be a string, the category should be a string, and the keywords should be an array of strings.\"},\n",
                "        {\"role\": \"system\", \"content\": \"The description should be several paragraphs containing an overview, features, and benefits.\"},\n",
                "        {\"role\": \"user\", \"content\": f\"I want to create a mobile app that falls under the category of {category}. The main purpose of this app is: {purpose_statement}.\"},\n",
                "        {\"role\": \"user\", \"content\": f\"The features of the app include: {features}.\"}\n",
                "    ]\n",
                "    \n",
                "    # Make the chat API call.\n",
                "    selected_model = dropdown.value\n",
                "    response = openai.ChatCompletion.create(\n",
                "        model=selected_model,\n",
                "        messages=conversation,\n",
                "        temperature=0.7,  # Slight randomness for more creative responses\n",
                "    )\n",
                "    \n",
                "    print(response.choices[0].message['content'])\n",
                "\n",
                "def on_run_button_click(b):    \n",
                "    make_chat_api_call(category=category_input.value, purpose_statement=purpose_input.value, features=features_input.value, working_name=name_input.value)\n",
                "\n",
                "run_button.on_click(on_run_button_click)\n",
                "\n",
                "# Display the widgets\n",
                "widgets.VBox([dropdown, category_input, purpose_input, features_input, name_input, run_button, output])\n"
            ]
        },
        {
            "cell_type": "code",
            "execution_count": null,
            "metadata": {},
            "outputs": [],
            "source": []
        }
    ],
    "metadata": {
        "kernelspec": {
            "display_name": "Python 3",
            "language": "python",
            "name": "python3"
        },
        "language_info": {
            "codemirror_mode": {
                "name": "ipython",
                "version": 3
            },
            "file_extension": ".py",
            "mimetype": "text/x-python",
            "name": "python",
            "nbconvert_exporter": "python",
            "pygments_lexer": "ipython3",
            "version": "3.11.3"
        }
    },
    "nbformat": 4,
    "nbformat_minor": 4
}
