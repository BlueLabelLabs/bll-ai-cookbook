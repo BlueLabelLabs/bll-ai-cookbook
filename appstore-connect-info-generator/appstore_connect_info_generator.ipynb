{
    "cells": [
        {
            "cell_type": "markdown",
            "metadata": {},
            "source": [
                "# Imagine an app\n",
                "\n",
                "Use ChatGPT to describe in detail a new mobile app\n",
                "\n",
                "The user provides a category, purpose statement, and (optionally) a working name, and the model generates a longer description of the app.\n",
                "\n",
                "ChatGPT will generate a list of features, a list of benefits, keywords, and a list of potential names for the app.\n"
            ]
        },
        {
            "cell_type": "markdown",
            "metadata": {},
            "source": []
        },
        {
            "cell_type": "markdown",
            "metadata": {},
            "source": [
                "## 1. Import the openai and requests libraries"
            ]
        },
        {
            "cell_type": "code",
            "execution_count": 25,
            "metadata": {},
            "outputs": [
                {
                    "name": "stdout",
                    "output_type": "stream",
                    "text": [
                        "Defaulting to user installation because normal site-packages is not writeable\n",
                        "Requirement already satisfied: openai in /Users/chris/Library/Python/3.11/lib/python/site-packages (0.27.9)\n",
                        "Requirement already satisfied: requests>=2.20 in /Users/chris/Library/Python/3.11/lib/python/site-packages (from openai) (2.31.0)\n",
                        "Requirement already satisfied: tqdm in /Users/chris/Library/Python/3.11/lib/python/site-packages (from openai) (4.66.1)\n",
                        "Requirement already satisfied: aiohttp in /Users/chris/Library/Python/3.11/lib/python/site-packages (from openai) (3.8.5)\n",
                        "Requirement already satisfied: charset-normalizer<4,>=2 in /Users/chris/Library/Python/3.11/lib/python/site-packages (from requests>=2.20->openai) (3.2.0)\n",
                        "Requirement already satisfied: idna<4,>=2.5 in /Users/chris/Library/Python/3.11/lib/python/site-packages (from requests>=2.20->openai) (3.4)\n",
                        "Requirement already satisfied: urllib3<3,>=1.21.1 in /Users/chris/Library/Python/3.11/lib/python/site-packages (from requests>=2.20->openai) (2.0.4)\n",
                        "Requirement already satisfied: certifi>=2017.4.17 in /Users/chris/Library/Python/3.11/lib/python/site-packages (from requests>=2.20->openai) (2023.7.22)\n",
                        "Requirement already satisfied: attrs>=17.3.0 in /Users/chris/Library/Python/3.11/lib/python/site-packages (from aiohttp->openai) (23.1.0)\n",
                        "Requirement already satisfied: multidict<7.0,>=4.5 in /Users/chris/Library/Python/3.11/lib/python/site-packages (from aiohttp->openai) (6.0.4)\n",
                        "Requirement already satisfied: async-timeout<5.0,>=4.0.0a3 in /Users/chris/Library/Python/3.11/lib/python/site-packages (from aiohttp->openai) (4.0.3)\n",
                        "Requirement already satisfied: yarl<2.0,>=1.0 in /Users/chris/Library/Python/3.11/lib/python/site-packages (from aiohttp->openai) (1.9.2)\n",
                        "Requirement already satisfied: frozenlist>=1.1.1 in /Users/chris/Library/Python/3.11/lib/python/site-packages (from aiohttp->openai) (1.4.0)\n",
                        "Requirement already satisfied: aiosignal>=1.1.2 in /Users/chris/Library/Python/3.11/lib/python/site-packages (from aiohttp->openai) (1.3.1)\n",
                        "Note: you may need to restart the kernel to use updated packages.\n",
                        "Defaulting to user installation because normal site-packages is not writeable\n",
                        "Requirement already satisfied: ipywidgets in /Users/chris/Library/Python/3.11/lib/python/site-packages (8.1.0)\n",
                        "Requirement already satisfied: comm>=0.1.3 in /Users/chris/Library/Python/3.11/lib/python/site-packages (from ipywidgets) (0.1.4)\n",
                        "Requirement already satisfied: ipython>=6.1.0 in /Users/chris/Library/Python/3.11/lib/python/site-packages (from ipywidgets) (8.14.0)\n",
                        "Requirement already satisfied: traitlets>=4.3.1 in /Users/chris/Library/Python/3.11/lib/python/site-packages (from ipywidgets) (5.9.0)\n",
                        "Requirement already satisfied: widgetsnbextension~=4.0.7 in /Users/chris/Library/Python/3.11/lib/python/site-packages (from ipywidgets) (4.0.8)\n",
                        "Requirement already satisfied: jupyterlab-widgets~=3.0.7 in /Users/chris/Library/Python/3.11/lib/python/site-packages (from ipywidgets) (3.0.8)\n",
                        "Requirement already satisfied: backcall in /Users/chris/Library/Python/3.11/lib/python/site-packages (from ipython>=6.1.0->ipywidgets) (0.2.0)\n",
                        "Requirement already satisfied: decorator in /Users/chris/Library/Python/3.11/lib/python/site-packages (from ipython>=6.1.0->ipywidgets) (5.1.1)\n",
                        "Requirement already satisfied: jedi>=0.16 in /Users/chris/Library/Python/3.11/lib/python/site-packages (from ipython>=6.1.0->ipywidgets) (0.19.0)\n",
                        "Requirement already satisfied: matplotlib-inline in /Users/chris/Library/Python/3.11/lib/python/site-packages (from ipython>=6.1.0->ipywidgets) (0.1.6)\n",
                        "Requirement already satisfied: pickleshare in /Users/chris/Library/Python/3.11/lib/python/site-packages (from ipython>=6.1.0->ipywidgets) (0.7.5)\n",
                        "Requirement already satisfied: prompt-toolkit!=3.0.37,<3.1.0,>=3.0.30 in /Users/chris/Library/Python/3.11/lib/python/site-packages (from ipython>=6.1.0->ipywidgets) (3.0.39)\n",
                        "Requirement already satisfied: pygments>=2.4.0 in /Users/chris/Library/Python/3.11/lib/python/site-packages (from ipython>=6.1.0->ipywidgets) (2.16.1)\n",
                        "Requirement already satisfied: stack-data in /Users/chris/Library/Python/3.11/lib/python/site-packages (from ipython>=6.1.0->ipywidgets) (0.6.2)\n",
                        "Requirement already satisfied: pexpect>4.3 in /Users/chris/Library/Python/3.11/lib/python/site-packages (from ipython>=6.1.0->ipywidgets) (4.8.0)\n",
                        "Requirement already satisfied: appnope in /Users/chris/Library/Python/3.11/lib/python/site-packages (from ipython>=6.1.0->ipywidgets) (0.1.3)\n",
                        "Requirement already satisfied: parso<0.9.0,>=0.8.3 in /Users/chris/Library/Python/3.11/lib/python/site-packages (from jedi>=0.16->ipython>=6.1.0->ipywidgets) (0.8.3)\n",
                        "Requirement already satisfied: ptyprocess>=0.5 in /Users/chris/Library/Python/3.11/lib/python/site-packages (from pexpect>4.3->ipython>=6.1.0->ipywidgets) (0.7.0)\n",
                        "Requirement already satisfied: wcwidth in /Users/chris/Library/Python/3.11/lib/python/site-packages (from prompt-toolkit!=3.0.37,<3.1.0,>=3.0.30->ipython>=6.1.0->ipywidgets) (0.2.6)\n",
                        "Requirement already satisfied: executing>=1.2.0 in /Users/chris/Library/Python/3.11/lib/python/site-packages (from stack-data->ipython>=6.1.0->ipywidgets) (1.2.0)\n",
                        "Requirement already satisfied: asttokens>=2.1.0 in /Users/chris/Library/Python/3.11/lib/python/site-packages (from stack-data->ipython>=6.1.0->ipywidgets) (2.2.1)\n",
                        "Requirement already satisfied: pure-eval in /Users/chris/Library/Python/3.11/lib/python/site-packages (from stack-data->ipython>=6.1.0->ipywidgets) (0.2.2)\n",
                        "Requirement already satisfied: six in /Users/chris/Library/Python/3.11/lib/python/site-packages (from asttokens>=2.1.0->stack-data->ipython>=6.1.0->ipywidgets) (1.16.0)\n",
                        "Note: you may need to restart the kernel to use updated packages.\n"
                    ]
                }
            ],
            "source": [
                "# if needed, install and/or upgrade to the latest version of the OpenAI Python library\n",
                "%pip install --upgrade openai\n",
                "%pip install --upgrade ipywidgets"
            ]
        },
        {
            "cell_type": "code",
            "execution_count": 26,
            "metadata": {},
            "outputs": [],
            "source": [
                "# import the OpenAI Python library for calling the OpenAI API\n",
                "import openai\n",
                "import ipywidgets as widgets \n",
                "from IPython.display import display"
            ]
        },
        {
            "cell_type": "markdown",
            "metadata": {},
            "source": [
                "## 2. Set your API key"
            ]
        },
        {
            "cell_type": "code",
            "execution_count": 27,
            "metadata": {
                "cocalc": {
                    "outputs": {
                        "0": {
                            "name": "input",
                            "opts": {
                                "password": false,
                                "prompt": "Enter your OpenAI API key: "
                            },
                            "output_type": "stream"
                        }
                    }
                }
            },
            "outputs": [],
            "source": [
                "api_key = input(\"Enter your OpenAI API key: \").strip()\n",
                "openai.api_key = api_key"
            ]
        },
        {
            "cell_type": "markdown",
            "metadata": {},
            "source": [
                "## 3. Get the available models"
            ]
        },
        {
            "cell_type": "code",
            "execution_count": 28,
            "metadata": {},
            "outputs": [],
            "source": [
                "# Fetch the available models\n",
                "models_data = openai.Model.list()\n",
                "model_names = [model.id for model in models_data.data if model.id.startswith('gpt-')]"
            ]
        },
        {
            "cell_type": "markdown",
            "metadata": {},
            "source": [
                "## 4. Select the model and run the ChatCompletion request"
            ]
        },
        {
            "cell_type": "code",
            "execution_count": 29,
            "metadata": {},
            "outputs": [
                {
                    "data": {
                        "application/vnd.jupyter.widget-view+json": {
                            "model_id": "6334c70cbb4c4934b167fb223bf900e2",
                            "version_major": 2,
                            "version_minor": 0
                        },
                        "text/plain": [
                            "VBox(children=(Dropdown(description='Select Model:', options=('gpt-3.5-turbo', 'gpt-3.5-turbo-0613', 'gpt-3.5-…"
                        ]
                    },
                    "execution_count": 29,
                    "metadata": {},
                    "output_type": "execute_result"
                },
                {
                    "name": "stdout",
                    "output_type": "stream",
                    "text": [
                        "Title: FitTrack - Your Personal Health Companion\n",
                        "\n",
                        "Description:\n",
                        "Welcome to FitTrack, the ultimate mobile app that will revolutionize the way you track and improve your health. Say goodbye to mundane health apps and say hello to an exciting, quirky, and fun experience that will keep you motivated and inspired on your fitness journey. With FitTrack, you can effortlessly track your general health and fitness progress while enjoying a range of innovative features that will take your workouts to the next level.\n",
                        "\n",
                        "FitTrack offers a comprehensive suite of features designed to help you achieve your health goals. Our workout plans are tailored to your specific needs and fitness level, ensuring that you get the most out of every session. Whether you're a beginner or a seasoned fitness enthusiast, our plans will challenge you, push your limits, and help you reach new heights in your fitness journey.\n",
                        "\n",
                        "But that's not all! FitTrack also includes a calorie tracker, allowing you to monitor your daily intake and make informed decisions about your nutrition. Say goodbye to guesswork and hello to a healthier, more balanced lifestyle. Our intuitive interface makes it easy to log your meals and snacks, giving you a clear picture of your calorie consumption and helping you make healthier choices.\n",
                        "\n",
                        "One of the most exciting features of FitTrack is our interactive running segment map. Lace up your sneakers, hit the pavement, and let FitTrack guide you through a world of running adventures. Discover new routes, challenge your personal bests, and explore stunning landscapes, all while tracking your distance, pace, and steps taken. Our map is constantly updated with new segments, ensuring that every run is a unique and exhilarating experience.\n",
                        "\n",
                        "FitTrack is more than just a health app - it's your personal health companion. With its quirky and fun interface, it will keep you entertained and motivated throughout your fitness journey. So what are you waiting for? Download FitTrack now and embark on a thrilling adventure towards a healthier, fitter you!\n",
                        "\n",
                        "Category: Health\n",
                        "\n",
                        "Keywords: Fitness, Health, Workout, Calorie Tracker, Running, Steps, Health Tracker, Personalized Plans, Nutrition, Adventure.\n"
                    ]
                }
            ],
            "source": [
                "# Widgets for model selection and user inputs\n",
                "dropdown = widgets.Dropdown(\n",
                "    options=model_names,\n",
                "    description='Select Model:',\n",
                "    disabled=False\n",
                ")\n",
                "\n",
                "category_input = widgets.Text(value='', description='Category:', placeholder='e.g. Health & Fitness')\n",
                "purpose_input = widgets.Textarea(value='', description='Purpose:', placeholder='e.g. To help users track their daily calorie intake.')\n",
                "features_input = widgets.Textarea(value='', description='Features:', placeholder='e.g. Calorie tracking, Workout plans')\n",
                "name_input = widgets.Text(value='', description='Working Name (Optional):', placeholder='e.g. CalTrack')\n",
                "\n",
                "run_button = widgets.Button(description=\"Generate App Description\")\n",
                "\n",
                "output = widgets.Output()\n",
                "\n",
                "def make_chat_api_call(category, purpose_statement, features, working_name=None):\n",
                "    # Start the conversation by giving the model context\n",
                "    conversation = [\n",
                "        {\"role\": \"system\", \"content\": \"You are an assistant that will help me submit my new app idea to the App Store. I need specific information about my app to submit it. Here are some notes to keep track of\"},\n",
                "        {\"role\": \"system\", \"content\": \"The title should be quirky and fun. The description should be a 3 paragraph summary of the purpose_statement and features, written in a fun, exciting, and descriptive way.\"},\n",
                "        {\"role\": \"system\", \"content\": \"Output should be in JSON. It should be a single object with the following keys: choices: [{ name, description }] (2 choices), category, and keywords[] (10). The name should be a string, the description should be a string, the category should be a string, and the keywords should be an array of strings.\"},\n",
                "        {\"role\": \"system\", \"content\": \"The description should be several paragraphs containing an overview, features, and benefits.\"},\n",
                "        {\"role\": \"user\", \"content\": f\"I want to create a mobile app that falls under the category of {category}. The main purpose of this app is: {purpose_statement}.\"},\n",
                "        {\"role\": \"user\", \"content\": f\"The features of the app include: {features}.\"}\n",
                "    ]\n",
                "    \n",
                "    # If a working name is provided, add it to the conversation\n",
                "    if working_name:\n",
                "        conversation.append({\"role\": \"user\", \"content\": f\"I'm thinking of calling it {working_name}. What do you think?\"})\n",
                "    \n",
                "    # Make the chat API call\n",
                "    selected_model = dropdown.value\n",
                "    response = openai.ChatCompletion.create(\n",
                "        model=selected_model,\n",
                "        messages=conversation,\n",
                "        temperature=0.7,  # Slight randomness for more creative responses\n",
                "    )\n",
                "    \n",
                "    print(response.choices[0].message['content'])\n",
                "\n",
                "def on_run_button_click(b):    \n",
                "    make_chat_api_call(category=category_input.value, purpose_statement=purpose_input.value, features=features_input.value, working_name=name_input.value)\n",
                "\n",
                "run_button.on_click(on_run_button_click)\n",
                "\n",
                "# Display the widgets\n",
                "widgets.VBox([dropdown, category_input, purpose_input, features_input, name_input, run_button, output])\n"
            ]
        },
        {
            "cell_type": "code",
            "execution_count": null,
            "metadata": {},
            "outputs": [],
            "source": []
        }
    ],
    "metadata": {
        "kernelspec": {
            "display_name": "Python 3",
            "language": "python",
            "name": "python3"
        },
        "language_info": {
            "codemirror_mode": {
                "name": "ipython",
                "version": 3
            },
            "file_extension": ".py",
            "mimetype": "text/x-python",
            "name": "python",
            "nbconvert_exporter": "python",
            "pygments_lexer": "ipython3",
            "version": "3.11.3"
        }
    },
    "nbformat": 4,
    "nbformat_minor": 4
}
