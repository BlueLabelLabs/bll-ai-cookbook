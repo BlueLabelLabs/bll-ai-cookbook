{
 "cells": [
  {
   "cell_type": "markdown",
   "metadata": {},
   "source": [
    "# Hyer ML Logistic Regression\n",
    "\n",
    "This script initiates a straightforward machine learning project using Logistic Regression to predict a task fill status based on given features. The steps include loading a dataset, preprocessing the data by converting date-time information and encoding categorical variables, splitting the dataset into training and testing sets, and then training a Logistic Regression model on the training set. The model is finally evaluated on the testing set using metrics like accuracy, confusion matrix, and a classification report to understand its performance in predicting the task fill status."
   ]
  },
  {
   "cell_type": "markdown",
   "metadata": {},
   "source": [
    "## Import necessary libraries and modules"
   ]
  },
  {
   "cell_type": "code",
   "execution_count": null,
   "metadata": {},
   "outputs": [],
   "source": [
    "import pandas as pd\n",
    "from sklearn.model_selection import train_test_split\n",
    "from sklearn.linear_model import LogisticRegression\n",
    "from sklearn.metrics import accuracy_score, confusion_matrix, classification_report"
   ]
  },
  {
   "cell_type": "markdown",
   "metadata": {},
   "source": [
    "## Load the data"
   ]
  },
  {
   "cell_type": "code",
   "execution_count": null,
   "metadata": {},
   "outputs": [],
   "source": [
    "print('Loading data...')\n",
    "# Use the appropriate file path and file type (CSV or Excel) to load your data\n",
    "# data = pd.read_excel('data_complete.xlsx')\n",
    "data = pd.read_csv('subset.csv', low_memory=False)"
   ]
  },
  {
   "cell_type": "markdown",
   "metadata": {},
   "source": [
    "## Data Exploration and Preprocessing"
   ]
  },
  {
   "cell_type": "code",
   "execution_count": null,
   "metadata": {},
   "outputs": [],
   "source": [
    "print(f'Preprocessing records: {len(data)}')\n",
    "\n",
    "# Convert the date column to datetime format\n",
    "data['DateCreated'] = pd.to_datetime(data['DateCreated'])\n",
    "\n",
    "# Preprocessing\n",
    "data['HourOfDay'] = data['DateCreated'].dt.hour\n",
    "data['DayOfWeek'] = data['DateCreated'].dt.dayofweek\n",
    "data['EstimatedHours'] = data['EstimatedNumberOfSeconds'] / 3600  # Convert seconds to hours\n",
    "\n",
    "# Encoding categorical variables\n",
    "data['PrivatePublic_encoded'] = data['Private or Public'].apply(lambda x: 0 if x == 'Public' else 1)"
   ]
  },
  {
   "cell_type": "markdown",
   "metadata": {},
   "source": [
    "## Split the data"
   ]
  },
  {
   "cell_type": "code",
   "execution_count": null,
   "metadata": {},
   "outputs": [],
   "source": [
    "# Data Splitting\n",
    "print('Splitting data...')\n",
    "\n",
    "X = data[['HourOfDay', 'DayOfWeek', 'EstimatedHours', 'PrivatePublic_encoded']]\n",
    "y = data['Task Fill Status'].apply(lambda x: 1 if x == 'Filled' else 0)\n",
    "\n",
    "X_train, X_test, y_train, y_test = train_test_split(X.values, y.values, test_size=0.2, random_state=42)  # Convert to numpy arrays"
   ]
  },
  {
   "cell_type": "markdown",
   "metadata": {},
   "source": [
    "## Model Training"
   ]
  },
  {
   "cell_type": "code",
   "execution_count": null,
   "metadata": {},
   "outputs": [],
   "source": [
    "print('Training model...')\n",
    "model = LogisticRegression() # Use the appropriate model\n",
    "model.fit(X_train, y_train)"
   ]
  },
  {
   "cell_type": "markdown",
   "metadata": {},
   "source": [
    "## Model Evaluation"
   ]
  },
  {
   "cell_type": "code",
   "execution_count": null,
   "metadata": {},
   "outputs": [],
   "source": [
    "print('Evaluating model...')\n",
    "y_pred = model.predict(X_test)\n",
    "print(f'Accuracy: {accuracy_score(y_test, y_pred)}')\n",
    "print(f'Confusion Matrix:\\n{confusion_matrix(y_test, y_pred)}')\n",
    "print(f'Classification Report:\\n{classification_report(y_test, y_pred)}')"
   ]
  }
 ],
 "metadata": {
  "language_info": {
   "name": "python"
  },
  "orig_nbformat": 4
 },
 "nbformat": 4,
 "nbformat_minor": 2
}
